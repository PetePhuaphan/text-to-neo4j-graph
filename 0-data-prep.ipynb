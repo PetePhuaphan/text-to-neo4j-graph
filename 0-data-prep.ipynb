{
 "cells": [
  {
   "cell_type": "code",
   "execution_count": 5,
   "id": "b038b1d9-b8fc-4208-8a31-5e1d32159009",
   "metadata": {},
   "outputs": [],
   "source": [
    "import wikipedia,os,re\n",
    "\n",
    "from pathlib import Path\n",
    "from typing import List\n",
    "\n",
    "\n",
    "from dotenv import load_dotenv, find_dotenv\n",
    "_ = load_dotenv(find_dotenv())"
   ]
  },
  {
   "cell_type": "code",
   "execution_count": 6,
   "id": "25b725c3-a812-44b0-acf3-f00d6fd73e33",
   "metadata": {},
   "outputs": [],
   "source": [
    "movie_title_list = [\"Following\", \"Inception\", \"Insomnia (2002 film)\", \"Batman Begins\", \"The Prestige (film)\", \"The Dark Knight\", \"Inception\", \"The Dark Knight Rises\", \"Interstellar (film)\", \"Dunkirk (2017 film)\", \"Tenet (film)\", \"Oppenheimer (film)\"]"
   ]
  },
  {
   "cell_type": "code",
   "execution_count": 7,
   "id": "d89c1c1d-a7dd-4ec6-8096-c6a1b74c8e99",
   "metadata": {},
   "outputs": [],
   "source": [
    "movie_list = []\n",
    "pattern = r\"^(.*?) \\(film\\)$\"\n",
    "for movie in movie_title_list:\n",
    "    url = wikipedia.page(movie,auto_suggest=False).url\n",
    "    content = wikipedia.page(movie,auto_suggest=False).content\n",
    "    with open(f'data/{movie}.txt','w',  encoding='utf-8') as f:\n",
    "       movie_name = re.sub(pattern, r\"\\1\", movie)\n",
    "       f.write(f\"{movie_name}\\n\")\n",
    "       f.write(f\"{content}\\n\")"
   ]
  },
  {
   "cell_type": "code",
   "execution_count": null,
   "id": "15a88bb4-62b9-4546-a69b-5aebf5325468",
   "metadata": {},
   "outputs": [],
   "source": []
  }
 ],
 "metadata": {
  "kernelspec": {
   "display_name": "Python 3 (ipykernel)",
   "language": "python",
   "name": "python3"
  },
  "language_info": {
   "codemirror_mode": {
    "name": "ipython",
    "version": 3
   },
   "file_extension": ".py",
   "mimetype": "text/x-python",
   "name": "python",
   "nbconvert_exporter": "python",
   "pygments_lexer": "ipython3",
   "version": "3.11.7"
  }
 },
 "nbformat": 4,
 "nbformat_minor": 5
}
